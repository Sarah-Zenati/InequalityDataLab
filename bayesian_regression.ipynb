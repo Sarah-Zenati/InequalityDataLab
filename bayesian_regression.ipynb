{
 "cells": [
  {
   "cell_type": "markdown",
   "id": "75f0c70a",
   "metadata": {},
   "source": [
    "## Bayesian Regression\n",
    "\n",
    "\n",
    "Bayesian regression is a type of linear regression that uses Bayesian statistics to estimate the unknown parameters of a model. It uses Bayes’ theorem to estimate the likelihood of a set of parameters given observed data. The goal of Bayesian regression is to find the best estimate of the parameters of a linear model that describes the relationship between the independent and the dependent variables.\n",
    "\n",
    "The main difference between traditional linear regression and Bayesian regression is the underlying assumption regarding the data-generating process. Traditional linear regression assumes that data follows a Gaussian or normal distribution, while Bayesian regression has stronger assumptions about the nature of the data and puts a prior probability distribution on the parameters. Bayesian regression also enables more flexibility as it allows for additional parameters or prior distributions, and can be used to construct an arbitrarily complex model that explicitly expresses prior beliefs about the data. Additionally, Bayesian regression provides more accurate predictive measures from fewer data points and is able to construct estimates for uncertainty around the estimates. On the other hand, traditional linear regressions are easier to implement and generally faster with simpler models and can provide good results when the assumptions about the data are valid."
   ]
  },
  {
   "cell_type": "code",
   "execution_count": null,
   "id": "e1b262eb",
   "metadata": {},
   "outputs": [],
   "source": [
    "import numpy as np\n",
    "import pymc3 as pm\n",
    "import matplotlib.pyplot as plt\n",
    "\n",
    "# Generate some sample data\n",
    "np.random.seed(0)\n",
    "X = np.linspace(0, 10, 100)\n",
    "true_slope = 2\n",
    "true_intercept = 1\n",
    "Y = true_intercept + true_slope * X + np.random.normal(0, 1, size=100)\n",
    "\n",
    "# Create a PyMC3 model\n",
    "with pm.Model() as model:\n",
    "    # Priors for the parameters\n",
    "    slope = pm.Normal('slope', mu=0, sd=10)\n",
    "    intercept = pm.Normal('intercept', mu=0, sd=10)\n",
    "    sigma = pm.HalfNormal('sigma', sd=1)\n",
    "\n",
    "    # Expected value of the outcome\n",
    "    mu = intercept + slope * X\n",
    "\n",
    "    # Likelihood (sampling distribution) of the observations\n",
    "    Y_obs = pm.Normal('Y_obs', mu=mu, sd=sigma, observed=Y)\n",
    "\n",
    "    # Run the MCMC sampling\n",
    "    trace = pm.sample(2000, tune=1000)\n",
    "\n",
    "# Plot the posterior distributions\n",
    "pm.plot_posterior(trace, var_names=['slope', 'intercept', 'sigma'])\n",
    "plt.show()"
   ]
  }
 ],
 "metadata": {
  "kernelspec": {
   "display_name": "Python 3 (ipykernel)",
   "language": "python",
   "name": "python3"
  },
  "language_info": {
   "codemirror_mode": {
    "name": "ipython",
    "version": 3
   },
   "file_extension": ".py",
   "mimetype": "text/x-python",
   "name": "python",
   "nbconvert_exporter": "python",
   "pygments_lexer": "ipython3",
   "version": "3.9.12"
  }
 },
 "nbformat": 4,
 "nbformat_minor": 5
}
