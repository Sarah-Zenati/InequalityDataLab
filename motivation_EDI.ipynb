{
 "cells": [
  {
   "cell_type": "markdown",
   "id": "156a4826",
   "metadata": {},
   "source": [
    "## Compter les étudiants EDI dont les parents ont fait des études ou non :"
   ]
  },
  {
   "cell_type": "code",
   "execution_count": 2,
   "id": "a4817aab",
   "metadata": {},
   "outputs": [
    {
     "name": "stdout",
     "output_type": "stream",
     "text": [
      "Nombre d'individus '1ST GEN' et 'EDI' : 61\n",
      "Nombre d'individus '2ND GEN' et 'EDI' : 53\n"
     ]
    }
   ],
   "source": [
    "import pandas as pd\n",
    "\n",
    "# Charger le fichier Excel\n",
    "file_path = 'data/Données VI [GEN + MIG] + VD [SENSE + IND + INTER].xlsx'\n",
    "df = pd.read_excel(file_path)\n",
    "\n",
    "# Filtrer les données pour \"1ST GEN\" et \"EDI\"\n",
    "first_gen_edi = df[(df['GEN (capital culturel) [VI]'] == '1ST GEN') & (df['MIG (ascendance migratoire) [VI]'] == 'EDI')]\n",
    "\n",
    "# Filtrer les données pour \"2ND GEN\" et \"EDI\"\n",
    "second_gen_edi = df[(df['GEN (capital culturel) [VI]'] == '2ND GEN') & (df['MIG (ascendance migratoire) [VI]'] == 'EDI')]\n",
    "\n",
    "# Compter le nombre d'individus dans chaque groupe\n",
    "count_first_gen_edi = first_gen_edi.shape[0]\n",
    "count_second_gen_edi = second_gen_edi.shape[0]\n",
    "\n",
    "# Afficher les résultats\n",
    "print(f\"Nombre d'individus '1ST GEN' et 'EDI' : {count_first_gen_edi}\")\n",
    "print(f\"Nombre d'individus '2ND GEN' et 'EDI' : {count_second_gen_edi}\")\n"
   ]
  },
  {
   "cell_type": "code",
   "execution_count": null,
   "id": "e45fc160",
   "metadata": {},
   "outputs": [],
   "source": []
  },
  {
   "cell_type": "code",
   "execution_count": 18,
   "id": "350e2a0b",
   "metadata": {},
   "outputs": [
    {
     "name": "stdout",
     "output_type": "stream",
     "text": [
      "                            OLS Regression Results                            \n",
      "==============================================================================\n",
      "Dep. Variable:         MOY SENSE [VD]   R-squared:                      -0.000\n",
      "Model:                            OLS   Adj. R-squared:                 -0.000\n",
      "Method:                 Least Squares   F-statistic:                       nan\n",
      "Date:                Fri, 24 May 2024   Prob (F-statistic):                nan\n",
      "Time:                        21:06:14   Log-Likelihood:                -47.266\n",
      "No. Observations:                  61   AIC:                             96.53\n",
      "Df Residuals:                      60   BIC:                             98.64\n",
      "Df Model:                           0                                         \n",
      "Covariance Type:            nonrobust                                         \n",
      "==============================================================================\n",
      "                 coef    std err          t      P>|t|      [0.025      0.975]\n",
      "------------------------------------------------------------------------------\n",
      "Intercept      4.3714      0.068     64.479      0.000       4.236       4.507\n",
      "==============================================================================\n",
      "Omnibus:                        0.854   Durbin-Watson:                   1.938\n",
      "Prob(Omnibus):                  0.653   Jarque-Bera (JB):                0.827\n",
      "Skew:                          -0.022   Prob(JB):                        0.661\n",
      "Kurtosis:                       2.431   Cond. No.                         1.00\n",
      "==============================================================================\n",
      "\n",
      "Notes:\n",
      "[1] Standard Errors assume that the covariance matrix of the errors is correctly specified.\n"
     ]
    }
   ],
   "source": [
    "import pandas as pd\n",
    "import statsmodels.api as sm\n",
    "\n",
    "# Charger le fichier Excel\n",
    "file_path = 'data/Données VI [GEN + MIG] + VD [SENSE + IND + INTER].xlsx'\n",
    "df = pd.read_excel(file_path)\n",
    "\n",
    "# Filtrer les données pour \"1ST GEN\" dans la colonne B et \"EDI\" dans la colonne C\n",
    "filtered_df = df[(df['GEN (capital culturel) [VI]'] == '1ST GEN') & (df['MIG (ascendance migratoire) [VI]'] == 'EDI')]\n",
    "\n",
    "# Sélectionner les colonnes pertinentes\n",
    "# Colonne I : MOY SENSE [VD]\n",
    "y = filtered_df['MOY SENSE [VD]'].astype(float)  # Convertir en float si nécessaire\n",
    "\n",
    "# Créer une variable indépendante fictive pour l'intercept (une colonne de 1)\n",
    "x = pd.DataFrame({'Intercept': [1] * len(y)}, index=y.index)  # Aligner les indices avec y\n",
    "x = sm.add_constant(x)  # Ajouter une constante\n",
    "\n",
    "# Ajuster le modèle de régression linéaire\n",
    "model = sm.OLS(y, x).fit()\n",
    "\n",
    "# Afficher le résumé des résultats de la régression\n",
    "print(model.summary())\n"
   ]
  },
  {
   "cell_type": "markdown",
   "id": "2a4619b3",
   "metadata": {},
   "source": [
    "## Code pour comparer le sentiment d'appartenancedes étudiants d'origine imigrée selon le niveau d'étude des parents :"
   ]
  },
  {
   "cell_type": "code",
   "execution_count": 20,
   "id": "e32cd192",
   "metadata": {},
   "outputs": [
    {
     "name": "stdout",
     "output_type": "stream",
     "text": [
      "T-statistic: 0.06427219588276172\n",
      "P-value: 0.9488680663294495\n",
      "Il n'y a pas de différence statistiquement significative entre les deux groupes.\n"
     ]
    }
   ],
   "source": [
    "import pandas as pd\n",
    "from scipy import stats\n",
    "\n",
    "file_path = 'data/Données VI [GEN + MIG] + VD [SENSE + IND + INTER].xlsx'\n",
    "df = pd.read_excel(file_path)\n",
    "\n",
    "first_gen_edi = df[(df['GEN (capital culturel) [VI]'] == '1ST GEN') & (df['MIG (ascendance migratoire) [VI]'] == 'EDI')]['MOY SENSE [VD]'].astype(float)\n",
    "\n",
    "second_gen_edi = df[(df['GEN (capital culturel) [VI]'] == '2ND GEN') & (df['MIG (ascendance migratoire) [VI]'] == 'EDI')]['MOY SENSE [VD]'].astype(float)\n",
    "\n",
    "t_stat, p_value = stats.ttest_ind(first_gen_edi, second_gen_edi, nan_policy='omit')\n",
    "\n",
    "print(f\"T-statistic: {t_stat}\")\n",
    "print(f\"P-value: {p_value}\")\n",
    "\n",
    "if p_value < 0.05:\n",
    "    print(\"Il y a une différence statistiquement significative entre les deux groupes.\")\n",
    "else:\n",
    "    print(\"Il n'y a pas de différence statistiquement significative entre les deux groupes.\")\n"
   ]
  },
  {
   "cell_type": "markdown",
   "id": "687218c0",
   "metadata": {},
   "source": [
    "## Ce code effectue les étapes suivantes :\n",
    "Charger les données depuis le fichier Excel.\n",
    "Filtrer les données pour obtenir les valeurs de MOY SENSE [VD] des individus classés comme \"1ST GEN\" et \"EDI\".\n",
    "Filtrer les données pour obtenir les valeurs de MOY SENSE [VD] des individus classés comme \"2ND GEN\" et \"EDI\".\n",
    "Effectuer un test t pour comparer les moyennes des deux groupes.\n",
    "Afficher les résultats du test t et une interprétation de ces résultats.\n"
   ]
  },
  {
   "cell_type": "markdown",
   "id": "86ac26b1",
   "metadata": {},
   "source": [
    "Résultats du Test T\n",
    "\n",
    "T-statistic : 0.0643\n",
    "\n",
    "P-value : 0.9489\n",
    "\n",
    "Interprétation: \n",
    "La valeur de p (0.9489) est bien supérieure au seuil de signification couramment utilisé de 0.05. Par conséquent, nous n'avons pas suffisamment de preuves pour rejeter l'hypothèse nulle, ce qui signifie qu'il n'y a pas de différence statistiquement significative entre les valeurs moyennes de MOY SENSE [VD] des individus classés comme \"1ST GEN\" et \"EDI\" et ceux classés comme \"2ND GEN\" et \"EDI\".\n",
    "\n",
    "En d'autres termes, les moyennes de MOY SENSE [VD] pour ces deux groupes sont très similaires selon les données disponibles."
   ]
  },
  {
   "cell_type": "markdown",
   "id": "4e48afe5",
   "metadata": {},
   "source": [
    "## Moyenne sentiment d'appartenance pour chaque groupe EDI 1e génération VS 2e génération: "
   ]
  },
  {
   "cell_type": "code",
   "execution_count": 15,
   "id": "45931d1d",
   "metadata": {},
   "outputs": [
    {
     "name": "stdout",
     "output_type": "stream",
     "text": [
      "Moyenne de MOY SENSE [VD] pour 1ST GEN et EDI : 4.371374527112231\n",
      "Moyenne de MOY SENSE [VD] pour 2ND GEN et EDI : 4.365021770682149\n"
     ]
    }
   ],
   "source": [
    "import pandas as pd\n",
    "\n",
    "# Filtrer les données pour \"1ST GEN\" et \"EDI\"\n",
    "first_gen_edi = df[(df['GEN (capital culturel) [VI]'] == '1ST GEN') & (df['MIG (ascendance migratoire) [VI]'] == 'EDI')]['MOY SENSE [VD]'].astype(float)\n",
    "\n",
    "# Filtrer les données pour \"2ND GEN\" et \"EDI\"\n",
    "second_gen_edi = df[(df['GEN (capital culturel) [VI]'] == '2ND GEN') & (df['MIG (ascendance migratoire) [VI]'] == 'EDI')]['MOY SENSE [VD]'].astype(float)\n",
    "\n",
    "# Calculer les moyennes pour chaque groupe\n",
    "mean_first_gen_edi = first_gen_edi.mean()\n",
    "mean_second_gen_edi = second_gen_edi.mean()\n",
    "\n",
    "# Afficher les moyennes\n",
    "print(f\"Moyenne de MOY SENSE [VD] pour 1ST GEN et EDI : {mean_first_gen_edi}\")\n",
    "print(f\"Moyenne de MOY SENSE [VD] pour 2ND GEN et EDI : {mean_second_gen_edi}\")\n"
   ]
  },
  {
   "cell_type": "markdown",
   "id": "f6f8753b",
   "metadata": {},
   "source": [
    "# Comparaison des moyennes de sentiment d'appartenance entre étudiants de parents qui ont fait des études VS sans études "
   ]
  },
  {
   "cell_type": "code",
   "execution_count": 16,
   "id": "6168e791",
   "metadata": {},
   "outputs": [
    {
     "name": "stdout",
     "output_type": "stream",
     "text": [
      "T-statistic: 0.4746915437296905\n",
      "P-value: 0.635321779756749\n",
      "Moyenne de MOY SENSE [VD] pour 1ST GEN : 4.297670639219935\n",
      "Moyenne de MOY SENSE [VD] pour 2ND GEN : 4.269027269027273\n",
      "Il n'y a pas de différence statistiquement significative entre les deux groupes.\n"
     ]
    }
   ],
   "source": [
    "import pandas as pd\n",
    "from scipy import stats\n",
    "\n",
    "# Filtrer les données pour \"1ST GEN\"\n",
    "first_gen = df[df['GEN (capital culturel) [VI]'] == '1ST GEN']['MOY SENSE [VD]'].astype(float)\n",
    "\n",
    "# Filtrer les données pour \"2ND GEN\"\n",
    "second_gen = df[df['GEN (capital culturel) [VI]'] == '2ND GEN']['MOY SENSE [VD]'].astype(float)\n",
    "\n",
    "# Effectuer le test t pour deux échantillons indépendants\n",
    "t_stat, p_value = stats.ttest_ind(first_gen, second_gen, nan_policy='omit')\n",
    "\n",
    "# Afficher les résultats\n",
    "print(f\"T-statistic: {t_stat}\")\n",
    "print(f\"P-value: {p_value}\")\n",
    "\n",
    "# Calculer et afficher les moyennes pour chaque groupe\n",
    "mean_first_gen = first_gen.mean()\n",
    "mean_second_gen = second_gen.mean()\n",
    "\n",
    "print(f\"Moyenne de MOY SENSE [VD] pour 1ST GEN : {mean_first_gen}\")\n",
    "print(f\"Moyenne de MOY SENSE [VD] pour 2ND GEN : {mean_second_gen}\")\n",
    "\n",
    "# Interprétation des résultats\n",
    "if p_value < 0.05:\n",
    "    print(\"Il y a une différence statistiquement significative entre les deux groupes.\")\n",
    "else:\n",
    "    print(\"Il n'y a pas de différence statistiquement significative entre les deux groupes.\")\n"
   ]
  },
  {
   "cell_type": "code",
   "execution_count": 19,
   "id": "d293fa3c",
   "metadata": {},
   "outputs": [
    {
     "name": "stdout",
     "output_type": "stream",
     "text": [
      "T-statistic: 0.35722870007135\n",
      "P-value: 0.7215928284176576\n",
      "Moyenne de MOY IND [VD] pour 1ST GEN et EDI : 5.992974238875879\n",
      "Moyenne de MOY IND [VD] pour 2ND GEN et EDI : 5.913746630727763\n",
      "Il n'y a pas de différence statistiquement significative entre les deux groupes.\n"
     ]
    }
   ],
   "source": [
    "import pandas as pd\n",
    "from scipy import stats\n",
    "\n",
    "\n",
    "# Filtrer les données pour \"1ST GEN\" et \"EDI\"\n",
    "first_gen_edi = df[(df['GEN (capital culturel) [VI]'] == '1ST GEN') & (df['MIG (ascendance migratoire) [VI]'] == 'EDI')]['MOY IND [VD]'].astype(float)\n",
    "\n",
    "# Filtrer les données pour \"2ND GEN\" et \"EDI\"\n",
    "second_gen_edi = df[(df['GEN (capital culturel) [VI]'] == '2ND GEN') & (df['MIG (ascendance migratoire) [VI]'] == 'EDI')]['MOY IND [VD]'].astype(float)\n",
    "\n",
    "# Effectuer le test t pour deux échantillons indépendants\n",
    "t_stat, p_value = stats.ttest_ind(first_gen_edi, second_gen_edi, nan_policy='omit')\n",
    "\n",
    "# Afficher les résultats\n",
    "print(f\"T-statistic: {t_stat}\")\n",
    "print(f\"P-value: {p_value}\")\n",
    "\n",
    "# Calculer et afficher les moyennes pour chaque groupe\n",
    "mean_first_gen_edi = first_gen_edi.mean()\n",
    "mean_second_gen_edi = second_gen_edi.mean()\n",
    "\n",
    "print(f\"Moyenne de MOY IND [VD] pour 1ST GEN et EDI : {mean_first_gen_edi}\")\n",
    "print(f\"Moyenne de MOY IND [VD] pour 2ND GEN et EDI : {mean_second_gen_edi}\")\n",
    "\n",
    "# Interprétation des résultats\n",
    "if p_value < 0.05:\n",
    "    print(\"Il y a une différence statistiquement significative entre les deux groupes.\")\n",
    "else:\n",
    "    print(\"Il n'y a pas de différence statistiquement significative entre les deux groupes.\")\n"
   ]
  },
  {
   "cell_type": "code",
   "execution_count": 20,
   "id": "2b3c0e91",
   "metadata": {},
   "outputs": [
    {
     "name": "stdout",
     "output_type": "stream",
     "text": [
      "T-statistic: 2.313860779048787\n",
      "P-value: 0.02249978812932491\n",
      "Moyenne de MOY INTER [VD] pour 1ST GEN et EDI : 5.819672131147539\n",
      "Moyenne de MOY INTER [VD] pour 2ND GEN et EDI : 5.216981132075472\n",
      "Il y a une différence statistiquement significative entre les deux groupes.\n"
     ]
    }
   ],
   "source": [
    "import pandas as pd\n",
    "from scipy import stats\n",
    "\n",
    "\n",
    "# Filtrer les données pour \"1ST GEN\" et \"EDI\"\n",
    "first_gen_edi = df[(df['GEN (capital culturel) [VI]'] == '1ST GEN') & (df['MIG (ascendance migratoire) [VI]'] == 'EDI')]['MOY INTER [VD]'].astype(float)\n",
    "\n",
    "# Filtrer les données pour \"2ND GEN\" et \"EDI\"\n",
    "second_gen_edi = df[(df['GEN (capital culturel) [VI]'] == '2ND GEN') & (df['MIG (ascendance migratoire) [VI]'] == 'EDI')]['MOY INTER [VD]'].astype(float)\n",
    "\n",
    "# Effectuer le test t pour deux échantillons indépendants\n",
    "t_stat, p_value = stats.ttest_ind(first_gen_edi, second_gen_edi, nan_policy='omit')\n",
    "\n",
    "# Afficher les résultats\n",
    "print(f\"T-statistic: {t_stat}\")\n",
    "print(f\"P-value: {p_value}\")\n",
    "\n",
    "# Calculer et afficher les moyennes pour chaque groupe\n",
    "mean_first_gen_edi = first_gen_edi.mean()\n",
    "mean_second_gen_edi = second_gen_edi.mean()\n",
    "\n",
    "print(f\"Moyenne de MOY INTER [VD] pour 1ST GEN et EDI : {mean_first_gen_edi}\")\n",
    "print(f\"Moyenne de MOY INTER [VD] pour 2ND GEN et EDI : {mean_second_gen_edi}\")\n",
    "\n",
    "# Interprétation des résultats\n",
    "if p_value < 0.05:\n",
    "    print(\"Il y a une différence statistiquement significative entre les deux groupes.\")\n",
    "else:\n",
    "    print(\"Il n'y a pas de différence statistiquement significative entre les deux groupes.\")\n"
   ]
  },
  {
   "cell_type": "code",
   "execution_count": 21,
   "id": "76ecc1bb",
   "metadata": {},
   "outputs": [
    {
     "name": "stdout",
     "output_type": "stream",
     "text": [
      "T-statistic: 0.741709275375226\n",
      "P-value: 0.45879263203860976\n",
      "Moyenne de MOY IND [VD] pour 1ST GEN : 5.764587525150904\n",
      "Moyenne de MOY IND [VD] pour 2ND GEN : 5.6689342403628125\n",
      "Il n'y a pas de différence statistiquement significative entre les deux groupes.\n"
     ]
    }
   ],
   "source": [
    "import pandas as pd\n",
    "from scipy import stats\n",
    "\n",
    "# Filtrer les données pour \"1ST GEN\"\n",
    "first_gen = df[df['GEN (capital culturel) [VI]'] == '1ST GEN']['MOY IND [VD]'].astype(float)\n",
    "\n",
    "# Filtrer les données pour \"2ND GEN\"\n",
    "second_gen = df[df['GEN (capital culturel) [VI]'] == '2ND GEN']['MOY IND [VD]'].astype(float)\n",
    "\n",
    "# Effectuer le test t pour deux échantillons indépendants\n",
    "t_stat, p_value = stats.ttest_ind(first_gen, second_gen, nan_policy='omit')\n",
    "\n",
    "# Afficher les résultats\n",
    "print(f\"T-statistic: {t_stat}\")\n",
    "print(f\"P-value: {p_value}\")\n",
    "\n",
    "# Calculer et afficher les moyennes pour chaque groupe\n",
    "mean_first_gen = first_gen.mean()\n",
    "mean_second_gen = second_gen.mean()\n",
    "\n",
    "print(f\"Moyenne de MOY IND [VD] pour 1ST GEN : {mean_first_gen}\")\n",
    "print(f\"Moyenne de MOY IND [VD] pour 2ND GEN : {mean_second_gen}\")\n",
    "\n",
    "# Interprétation des résultats\n",
    "if p_value < 0.05:\n",
    "    print(\"Il y a une différence statistiquement significative entre les deux groupes.\")\n",
    "else:\n",
    "    print(\"Il n'y a pas de différence statistiquement significative entre les deux groupes.\")\n"
   ]
  },
  {
   "cell_type": "code",
   "execution_count": 22,
   "id": "c3756786",
   "metadata": {},
   "outputs": [
    {
     "name": "stdout",
     "output_type": "stream",
     "text": [
      "T-statistic: 4.87033312922056\n",
      "P-value: 1.7338324686403362e-06\n",
      "Moyenne de MOY INTER [VD] pour 1ST GEN : 5.34154929577465\n",
      "Moyenne de MOY INTER [VD] pour 2ND GEN : 4.495590828924163\n",
      "Il y a une différence statistiquement significative entre les deux groupes.\n"
     ]
    }
   ],
   "source": [
    "import pandas as pd\n",
    "from scipy import stats\n",
    "\n",
    "# Filtrer les données pour \"1ST GEN\"\n",
    "first_gen = df[df['GEN (capital culturel) [VI]'] == '1ST GEN']['MOY INTER [VD]'].astype(float)\n",
    "\n",
    "# Filtrer les données pour \"2ND GEN\"\n",
    "second_gen = df[df['GEN (capital culturel) [VI]'] == '2ND GEN']['MOY INTER [VD]'].astype(float)\n",
    "\n",
    "# Effectuer le test t pour deux échantillons indépendants\n",
    "t_stat, p_value = stats.ttest_ind(first_gen, second_gen, nan_policy='omit')\n",
    "\n",
    "# Afficher les résultats\n",
    "print(f\"T-statistic: {t_stat}\")\n",
    "print(f\"P-value: {p_value}\")\n",
    "\n",
    "# Calculer et afficher les moyennes pour chaque groupe\n",
    "mean_first_gen = first_gen.mean()\n",
    "mean_second_gen = second_gen.mean()\n",
    "\n",
    "print(f\"Moyenne de MOY INTER [VD] pour 1ST GEN : {mean_first_gen}\")\n",
    "print(f\"Moyenne de MOY INTER [VD] pour 2ND GEN : {mean_second_gen}\")\n",
    "\n",
    "# Interprétation des résultats\n",
    "if p_value < 0.05:\n",
    "    print(\"Il y a une différence statistiquement significative entre les deux groupes.\")\n",
    "else:\n",
    "    print(\"Il n'y a pas de différence statistiquement significative entre les deux groupes.\")\n"
   ]
  },
  {
   "cell_type": "code",
   "execution_count": 24,
   "id": "3557884f",
   "metadata": {},
   "outputs": [
    {
     "name": "stdout",
     "output_type": "stream",
     "text": [
      "Comparaison des moyennes de MOY INTER [VD] :\n",
      "T-statistic: 2.313860779048787\n",
      "P-value: 0.02249978812932491\n",
      "Moyenne de MOY INTER [VD] pour 1ST GEN et EDI : 5.819672131147539\n",
      "Moyenne de MOY INTER [VD] pour 2ND GEN et EDI : 5.216981132075472\n",
      "Il y a une différence statistiquement significative entre les deux groupes pour MOY INTER [VD].\n",
      "\n",
      "Comparaison des moyennes de MOY SENSE [VD] :\n",
      "T-statistic: 0.06427219588276172\n",
      "P-value: 0.9488680663294495\n",
      "Moyenne de MOY SENSE [VD] pour 1ST GEN et EDI : 4.371374527112231\n",
      "Moyenne de MOY SENSE [VD] pour 2ND GEN et EDI : 4.365021770682149\n",
      "Il n'y a pas de différence statistiquement significative entre les deux groupes pour MOY SENSE [VD].\n"
     ]
    }
   ],
   "source": [
    "import pandas as pd\n",
    "from scipy import stats\n",
    "\n",
    "# Filtrer les données pour \"1ST GEN\" et \"EDI\" pour MOY INTER [VD]\n",
    "first_gen_edi_inter = df[(df['GEN (capital culturel) [VI]'] == '1ST GEN') & (df['MIG (ascendance migratoire) [VI]'] == 'EDI')]['MOY INTER [VD]'].astype(float)\n",
    "\n",
    "# Filtrer les données pour \"2ND GEN\" et \"EDI\" pour MOY INTER [VD]\n",
    "second_gen_edi_inter = df[(df['GEN (capital culturel) [VI]'] == '2ND GEN') & (df['MIG (ascendance migratoire) [VI]'] == 'EDI')]['MOY INTER [VD]'].astype(float)\n",
    "\n",
    "# Filtrer les données pour \"1ST GEN\" et \"EDI\" pour MOY SENSE [VD]\n",
    "first_gen_edi_sense = df[(df['GEN (capital culturel) [VI]'] == '1ST GEN') & (df['MIG (ascendance migratoire) [VI]'] == 'EDI')]['MOY SENSE [VD]'].astype(float)\n",
    "\n",
    "# Filtrer les données pour \"2ND GEN\" et \"EDI\" pour MOY SENSE [VD]\n",
    "second_gen_edi_sense = df[(df['GEN (capital culturel) [VI]'] == '2ND GEN') & (df['MIG (ascendance migratoire) [VI]'] == 'EDI')]['MOY SENSE [VD]'].astype(float)\n",
    "\n",
    "# Effectuer le test t pour MOY INTER [VD]\n",
    "t_stat_inter, p_value_inter = stats.ttest_ind(first_gen_edi_inter, second_gen_edi_inter, nan_policy='omit')\n",
    "\n",
    "# Effectuer le test t pour MOY SENSE [VD]\n",
    "t_stat_sense, p_value_sense = stats.ttest_ind(first_gen_edi_sense, second_gen_edi_sense, nan_policy='omit')\n",
    "\n",
    "# Afficher les résultats pour MOY INTER [VD]\n",
    "print(\"Comparaison des moyennes de MOY INTER [VD] :\")\n",
    "print(f\"T-statistic: {t_stat_inter}\")\n",
    "print(f\"P-value: {p_value_inter}\")\n",
    "\n",
    "# Calculer et afficher les moyennes pour chaque groupe pour MOY INTER [VD]\n",
    "mean_first_gen_edi_inter = first_gen_edi_inter.mean()\n",
    "mean_second_gen_edi_inter = second_gen_edi_inter.mean()\n",
    "\n",
    "print(f\"Moyenne de MOY INTER [VD] pour 1ST GEN et EDI : {mean_first_gen_edi_inter}\")\n",
    "print(f\"Moyenne de MOY INTER [VD] pour 2ND GEN et EDI : {mean_second_gen_edi_inter}\")\n",
    "\n",
    "# Interprétation des résultats pour MOY INTER [VD]\n",
    "if p_value_inter < 0.05:\n",
    "    print(\"Il y a une différence statistiquement significative entre les deux groupes pour MOY INTER [VD].\")\n",
    "else:\n",
    "    print(\"Il n'y a pas de différence statistiquement significative entre les deux groupes pour MOY INTER [VD].\")\n",
    "\n",
    "# Afficher les résultats pour MOY SENSE [VD]\n",
    "print(\"\\nComparaison des moyennes de MOY SENSE [VD] :\")\n",
    "print(f\"T-statistic: {t_stat_sense}\")\n",
    "print(f\"P-value: {p_value_sense}\")\n",
    "\n",
    "# Calculer et afficher les moyennes pour chaque groupe pour MOY SENSE [VD]\n",
    "mean_first_gen_edi_sense = first_gen_edi_sense.mean()\n",
    "mean_second_gen_edi_sense = second_gen_edi_sense.mean()\n",
    "\n",
    "print(f\"Moyenne de MOY SENSE [VD] pour 1ST GEN et EDI : {mean_first_gen_edi_sense}\")\n",
    "print(f\"Moyenne de MOY SENSE [VD] pour 2ND GEN et EDI : {mean_second_gen_edi_sense}\")\n",
    "\n",
    "# Interprétation des résultats pour MOY SENSE [VD]\n",
    "if p_value_sense < 0.05:\n",
    "    print(\"Il y a une différence statistiquement significative entre les deux groupes pour MOY SENSE [VD].\")\n",
    "else:\n",
    "    print(\"Il n'y a pas de différence statistiquement significative entre les deux groupes pour MOY SENSE [VD].\")\n"
   ]
  },
  {
   "cell_type": "markdown",
   "id": "7ca49584",
   "metadata": {},
   "source": [
    "## Comparaison motivations INTER vs Sens of B, pour EDI 1GEN : "
   ]
  },
  {
   "cell_type": "code",
   "execution_count": 26,
   "id": "2cde4204",
   "metadata": {},
   "outputs": [
    {
     "name": "stdout",
     "output_type": "stream",
     "text": [
      "T-statistic: 10.013669329620646\n",
      "P-value: 2.029899157953692e-14\n",
      "Moyenne de MOY INTER [VD] pour 1ST GEN et EDI : 5.819672131147539\n",
      "Moyenne de MOY SENSE [VD] pour 1ST GEN et EDI : 4.371374527112231\n",
      "Il y a une différence statistiquement significative entre les moyennes de MOY INTER [VD] et MOY SENSE [VD] pour les étudiants 1ST GEN et EDI.\n"
     ]
    }
   ],
   "source": [
    "import pandas as pd\n",
    "from scipy import stats\n",
    "\n",
    "\n",
    "# Filtrer les données pour \"1ST GEN\" et \"EDI\"\n",
    "first_gen_edi = df[(df['GEN (capital culturel) [VI]'] == '1ST GEN') & (df['MIG (ascendance migratoire) [VI]'] == 'EDI')]\n",
    "\n",
    "# Extraire les colonnes MOY INTER [VD] et MOY SENSE [VD]\n",
    "inter_values = first_gen_edi['MOY INTER [VD]'].astype(float)\n",
    "sense_values = first_gen_edi['MOY SENSE [VD]'].astype(float)\n",
    "\n",
    "# Effectuer le test t pour échantillons appariés\n",
    "t_stat, p_value = stats.ttest_rel(inter_values, sense_values, nan_policy='omit')\n",
    "\n",
    "# Afficher les résultats\n",
    "print(f\"T-statistic: {t_stat}\")\n",
    "print(f\"P-value: {p_value}\")\n",
    "\n",
    "# Calculer et afficher les moyennes pour chaque groupe\n",
    "mean_inter = inter_values.mean()\n",
    "mean_sense = sense_values.mean()\n",
    "\n",
    "print(f\"Moyenne de MOY INTER [VD] pour 1ST GEN et EDI : {mean_inter}\")\n",
    "print(f\"Moyenne de MOY SENSE [VD] pour 1ST GEN et EDI : {mean_sense}\")\n",
    "\n",
    "# Interprétation des résultats\n",
    "if p_value < 0.05:\n",
    "    print(\"Il y a une différence statistiquement significative entre les moyennes de MOY INTER [VD] et MOY SENSE [VD] pour les étudiants 1ST GEN et EDI.\")\n",
    "else:\n",
    "    print(\"Il n'y a pas de différence statistiquement significative entre les moyennes de MOY INTER [VD] et MOY SENSE [VD] pour les étudiants 1ST GEN et EDI.\")\n"
   ]
  },
  {
   "cell_type": "markdown",
   "id": "bc561106",
   "metadata": {},
   "source": [
    "## Comparaison motivations INTER vs Sens of B, pour EDI 2nd GEN:"
   ]
  },
  {
   "cell_type": "code",
   "execution_count": 27,
   "id": "8a98d05e",
   "metadata": {},
   "outputs": [
    {
     "name": "stdout",
     "output_type": "stream",
     "text": [
      "T-statistic: 3.8407014630073113\n",
      "P-value: 0.00033495331707233587\n",
      "Moyenne de MOY INTER [VD] pour 2ND GEN et EDI : 5.216981132075472\n",
      "Moyenne de MOY SENSE [VD] pour 2ND GEN et EDI : 4.365021770682149\n",
      "Il y a une différence statistiquement significative entre les moyennes de MOY INTER [VD] et MOY SENSE [VD] pour les étudiants 2ND GEN et EDI.\n"
     ]
    }
   ],
   "source": [
    "import pandas as pd\n",
    "from scipy import stats\n",
    "\n",
    "# Filtrer les données pour \"2ND GEN\" et \"EDI\"\n",
    "second_gen_edi = df[(df['GEN (capital culturel) [VI]'] == '2ND GEN') & (df['MIG (ascendance migratoire) [VI]'] == 'EDI')]\n",
    "\n",
    "# Extraire les colonnes MOY INTER [VD] et MOY SENSE [VD]\n",
    "inter_values = second_gen_edi['MOY INTER [VD]'].astype(float)\n",
    "sense_values = second_gen_edi['MOY SENSE [VD]'].astype(float)\n",
    "\n",
    "# Effectuer le test t pour échantillons appariés\n",
    "t_stat, p_value = stats.ttest_rel(inter_values, sense_values, nan_policy='omit')\n",
    "\n",
    "# Afficher les résultats\n",
    "print(f\"T-statistic: {t_stat}\")\n",
    "print(f\"P-value: {p_value}\")\n",
    "\n",
    "# Calculer et afficher les moyennes pour chaque groupe\n",
    "mean_inter = inter_values.mean()\n",
    "mean_sense = sense_values.mean()\n",
    "\n",
    "print(f\"Moyenne de MOY INTER [VD] pour 2ND GEN et EDI : {mean_inter}\")\n",
    "print(f\"Moyenne de MOY SENSE [VD] pour 2ND GEN et EDI : {mean_sense}\")\n",
    "\n",
    "# Interprétation des résultats\n",
    "if p_value < 0.05:\n",
    "    print(\"Il y a une différence statistiquement significative entre les moyennes de MOY INTER [VD] et MOY SENSE [VD] pour les étudiants 2ND GEN et EDI.\")\n",
    "else:\n",
    "    print(\"Il n'y a pas de différence statistiquement significative entre les moyennes de MOY INTER [VD] et MOY SENSE [VD] pour les étudiants 2ND GEN et EDI.\")\n"
   ]
  },
  {
   "cell_type": "code",
   "execution_count": 28,
   "id": "f4917d94",
   "metadata": {},
   "outputs": [
    {
     "name": "stdout",
     "output_type": "stream",
     "text": [
      "Différence moyenne de MOY INTER - MOY SENSE pour 1ST GEN et EDI : 1.4482976040353086\n",
      "Différence moyenne de MOY INTER - MOY SENSE pour 2ND GEN et EDI : 0.8519593613933235\n",
      "La différence moyenne de MOY INTER - MOY SENSE est plus grande pour le groupe 1ST GEN et EDI.\n",
      "T-statistic: 2.3073171126351677\n",
      "P-value: 0.022874895855250203\n",
      "Il y a une différence statistiquement significative entre les différences de moyennes de MOY INTER et MOY SENSE entre les groupes 1ST GEN et 2ND GEN pour les étudiants EDI.\n"
     ]
    }
   ],
   "source": [
    "import pandas as pd\n",
    "from scipy import stats\n",
    "\n",
    "# Filtrer les données pour \"1ST GEN\" et \"EDI\"\n",
    "first_gen_edi = df[(df['GEN (capital culturel) [VI]'] == '1ST GEN') & (df['MIG (ascendance migratoire) [VI]'] == 'EDI')]\n",
    "\n",
    "# Filtrer les données pour \"2ND GEN\" et \"EDI\"\n",
    "second_gen_edi = df[(df['GEN (capital culturel) [VI]'] == '2ND GEN') & (df['MIG (ascendance migratoire) [VI]'] == 'EDI')]\n",
    "\n",
    "# Extraire les colonnes MOY INTER [VD] et MOY SENSE [VD] pour les deux groupes\n",
    "inter_values_1st_gen = first_gen_edi['MOY INTER [VD]'].astype(float)\n",
    "sense_values_1st_gen = first_gen_edi['MOY SENSE [VD]'].astype(float)\n",
    "\n",
    "inter_values_2nd_gen = second_gen_edi['MOY INTER [VD]'].astype(float)\n",
    "sense_values_2nd_gen = second_gen_edi['MOY SENSE [VD]'].astype(float)\n",
    "\n",
    "# Calculer les différences de moyennes pour chaque groupe\n",
    "difference_1st_gen = inter_values_1st_gen - sense_values_1st_gen\n",
    "difference_2nd_gen = inter_values_2nd_gen - sense_values_2nd_gen\n",
    "\n",
    "# Calculer et afficher les moyennes des différences pour chaque groupe\n",
    "mean_difference_1st_gen = difference_1st_gen.mean()\n",
    "mean_difference_2nd_gen = difference_2nd_gen.mean()\n",
    "\n",
    "print(f\"Différence moyenne de MOY INTER - MOY SENSE pour 1ST GEN et EDI : {mean_difference_1st_gen}\")\n",
    "print(f\"Différence moyenne de MOY INTER - MOY SENSE pour 2ND GEN et EDI : {mean_difference_2nd_gen}\")\n",
    "\n",
    "# Comparer les deux différences de moyennes\n",
    "if mean_difference_1st_gen > mean_difference_2nd_gen:\n",
    "    print(\"La différence moyenne de MOY INTER - MOY SENSE est plus grande pour le groupe 1ST GEN et EDI.\")\n",
    "elif mean_difference_1st_gen < mean_difference_2nd_gen:\n",
    "    print(\"La différence moyenne de MOY INTER - MOY SENSE est plus grande pour le groupe 2ND GEN et EDI.\")\n",
    "else:\n",
    "    print(\"Les différences moyennes de MOY INTER - MOY SENSE sont égales pour les deux groupes.\")\n",
    "\n",
    "# Effectuer le test t pour comparer les différences de moyennes entre les deux groupes\n",
    "t_stat, p_value = stats.ttest_ind(difference_1st_gen, difference_2nd_gen, nan_policy='omit')\n",
    "\n",
    "# Afficher les résultats\n",
    "print(f\"T-statistic: {t_stat}\")\n",
    "print(f\"P-value: {p_value}\")\n",
    "\n",
    "# Interprétation des résultats\n",
    "if p_value < 0.05:\n",
    "    print(\"Il y a une différence statistiquement significative entre les différences de moyennes de MOY INTER et MOY SENSE entre les groupes 1ST GEN et 2ND GEN pour les étudiants EDI.\")\n",
    "else:\n",
    "    print(\"Il n'y a pas de différence statistiquement significative entre les différences de moyennes de MOY INTER et MOY SENSE entre les groupes 1ST GEN et 2ND GEN pour les étudiants EDI.\")\n"
   ]
  }
 ],
 "metadata": {
  "kernelspec": {
   "display_name": "Python 3 (ipykernel)",
   "language": "python",
   "name": "python3"
  },
  "language_info": {
   "codemirror_mode": {
    "name": "ipython",
    "version": 3
   },
   "file_extension": ".py",
   "mimetype": "text/x-python",
   "name": "python",
   "nbconvert_exporter": "python",
   "pygments_lexer": "ipython3",
   "version": "3.9.12"
  }
 },
 "nbformat": 4,
 "nbformat_minor": 5
}
