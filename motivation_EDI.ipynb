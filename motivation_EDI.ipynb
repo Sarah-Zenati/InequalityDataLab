{
 "cells": [
  {
   "cell_type": "code",
   "execution_count": 18,
   "id": "eb2c412b",
   "metadata": {},
   "outputs": [
    {
     "name": "stdout",
     "output_type": "stream",
     "text": [
      "                            OLS Regression Results                            \n",
      "==============================================================================\n",
      "Dep. Variable:         MOY SENSE [VD]   R-squared:                      -0.000\n",
      "Model:                            OLS   Adj. R-squared:                 -0.000\n",
      "Method:                 Least Squares   F-statistic:                       nan\n",
      "Date:                Fri, 24 May 2024   Prob (F-statistic):                nan\n",
      "Time:                        21:06:14   Log-Likelihood:                -47.266\n",
      "No. Observations:                  61   AIC:                             96.53\n",
      "Df Residuals:                      60   BIC:                             98.64\n",
      "Df Model:                           0                                         \n",
      "Covariance Type:            nonrobust                                         \n",
      "==============================================================================\n",
      "                 coef    std err          t      P>|t|      [0.025      0.975]\n",
      "------------------------------------------------------------------------------\n",
      "Intercept      4.3714      0.068     64.479      0.000       4.236       4.507\n",
      "==============================================================================\n",
      "Omnibus:                        0.854   Durbin-Watson:                   1.938\n",
      "Prob(Omnibus):                  0.653   Jarque-Bera (JB):                0.827\n",
      "Skew:                          -0.022   Prob(JB):                        0.661\n",
      "Kurtosis:                       2.431   Cond. No.                         1.00\n",
      "==============================================================================\n",
      "\n",
      "Notes:\n",
      "[1] Standard Errors assume that the covariance matrix of the errors is correctly specified.\n"
     ]
    }
   ],
   "source": [
    "import pandas as pd\n",
    "import statsmodels.api as sm\n",
    "\n",
    "# Charger le fichier Excel\n",
    "file_path = 'data/Données VI [GEN + MIG] + VD [SENSE + IND + INTER].xlsx'\n",
    "df = pd.read_excel(file_path)\n",
    "\n",
    "# Filtrer les données pour \"1ST GEN\" dans la colonne B et \"EDI\" dans la colonne C\n",
    "filtered_df = df[(df['GEN (capital culturel) [VI]'] == '1ST GEN') & (df['MIG (ascendance migratoire) [VI]'] == 'EDI')]\n",
    "\n",
    "# Sélectionner les colonnes pertinentes\n",
    "# Colonne I : MOY SENSE [VD]\n",
    "y = filtered_df['MOY SENSE [VD]'].astype(float)  # Convertir en float si nécessaire\n",
    "\n",
    "# Créer une variable indépendante fictive pour l'intercept (une colonne de 1)\n",
    "x = pd.DataFrame({'Intercept': [1] * len(y)}, index=y.index)  # Aligner les indices avec y\n",
    "x = sm.add_constant(x)  # Ajouter une constante\n",
    "\n",
    "# Ajuster le modèle de régression linéaire\n",
    "model = sm.OLS(y, x).fit()\n",
    "\n",
    "# Afficher le résumé des résultats de la régression\n",
    "print(model.summary())\n"
   ]
  },
  {
   "cell_type": "markdown",
   "id": "382bd658",
   "metadata": {},
   "source": [
    "## Code pour comparer la motivation des étudiants d'origine imigrée selon le niveau d'étude des parents :"
   ]
  },
  {
   "cell_type": "code",
   "execution_count": 20,
   "id": "c4803b59",
   "metadata": {},
   "outputs": [
    {
     "name": "stdout",
     "output_type": "stream",
     "text": [
      "T-statistic: 0.06427219588276172\n",
      "P-value: 0.9488680663294495\n",
      "Il n'y a pas de différence statistiquement significative entre les deux groupes.\n"
     ]
    }
   ],
   "source": [
    "import pandas as pd\n",
    "from scipy import stats\n",
    "\n",
    "file_path = 'data/Données VI [GEN + MIG] + VD [SENSE + IND + INTER].xlsx'\n",
    "df = pd.read_excel(file_path)\n",
    "\n",
    "first_gen_edi = df[(df['GEN (capital culturel) [VI]'] == '1ST GEN') & (df['MIG (ascendance migratoire) [VI]'] == 'EDI')]['MOY SENSE [VD]'].astype(float)\n",
    "\n",
    "second_gen_edi = df[(df['GEN (capital culturel) [VI]'] == '2ND GEN') & (df['MIG (ascendance migratoire) [VI]'] == 'EDI')]['MOY SENSE [VD]'].astype(float)\n",
    "\n",
    "t_stat, p_value = stats.ttest_ind(first_gen_edi, second_gen_edi, nan_policy='omit')\n",
    "\n",
    "print(f\"T-statistic: {t_stat}\")\n",
    "print(f\"P-value: {p_value}\")\n",
    "\n",
    "if p_value < 0.05:\n",
    "    print(\"Il y a une différence statistiquement significative entre les deux groupes.\")\n",
    "else:\n",
    "    print(\"Il n'y a pas de différence statistiquement significative entre les deux groupes.\")\n"
   ]
  },
  {
   "cell_type": "markdown",
   "id": "c5d84836",
   "metadata": {},
   "source": [
    "## Ce code effectue les étapes suivantes :\n",
    "Charger les données depuis le fichier Excel.\n",
    "Filtrer les données pour obtenir les valeurs de MOY SENSE [VD] des individus classés comme \"1ST GEN\" et \"EDI\".\n",
    "Filtrer les données pour obtenir les valeurs de MOY SENSE [VD] des individus classés comme \"2ND GEN\" et \"EDI\".\n",
    "Effectuer un test t pour comparer les moyennes des deux groupes.\n",
    "Afficher les résultats du test t et une interprétation de ces résultats.\n"
   ]
  },
  {
   "cell_type": "markdown",
   "id": "63294cb0",
   "metadata": {},
   "source": [
    "Résultats du Test T\n",
    "\n",
    "T-statistic : 0.0643\n",
    "\n",
    "P-value : 0.9489\n",
    "\n",
    "Interprétation: \n",
    "La valeur de p (0.9489) est bien supérieure au seuil de signification couramment utilisé de 0.05. Par conséquent, nous n'avons pas suffisamment de preuves pour rejeter l'hypothèse nulle, ce qui signifie qu'il n'y a pas de différence statistiquement significative entre les valeurs moyennes de MOY SENSE [VD] des individus classés comme \"1ST GEN\" et \"EDI\" et ceux classés comme \"2ND GEN\" et \"EDI\".\n",
    "\n",
    "En d'autres termes, les moyennes de MOY SENSE [VD] pour ces deux groupes sont très similaires selon les données disponibles."
   ]
  },
  {
   "cell_type": "code",
   "execution_count": null,
   "id": "5ab1f23b",
   "metadata": {},
   "outputs": [],
   "source": []
  }
 ],
 "metadata": {
  "kernelspec": {
   "display_name": "Python 3 (ipykernel)",
   "language": "python",
   "name": "python3"
  },
  "language_info": {
   "codemirror_mode": {
    "name": "ipython",
    "version": 3
   },
   "file_extension": ".py",
   "mimetype": "text/x-python",
   "name": "python",
   "nbconvert_exporter": "python",
   "pygments_lexer": "ipython3",
   "version": "3.9.12"
  }
 },
 "nbformat": 4,
 "nbformat_minor": 5
}
