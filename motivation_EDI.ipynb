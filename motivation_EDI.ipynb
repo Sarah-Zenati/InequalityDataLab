{
 "cells": [
  {
   "cell_type": "markdown",
   "id": "f6f8753b",
   "metadata": {},
   "source": [
    "# 1.1 Comparaison des moyennes de sentiment d'appartenance entre étudiants de parents qui ont fait des études VS sans études (1GEN VS 2ND GEN)"
   ]
  },
  {
   "cell_type": "code",
   "execution_count": 16,
   "id": "6168e791",
   "metadata": {},
   "outputs": [
    {
     "name": "stdout",
     "output_type": "stream",
     "text": [
      "T-statistic: 0.4746915437296905\n",
      "P-value: 0.635321779756749\n",
      "Moyenne de MOY SENSE [VD] pour 1ST GEN : 4.297670639219935\n",
      "Moyenne de MOY SENSE [VD] pour 2ND GEN : 4.269027269027273\n",
      "Il n'y a pas de différence statistiquement significative entre les deux groupes.\n"
     ]
    }
   ],
   "source": [
    "import pandas as pd\n",
    "from scipy import stats\n",
    "\n",
    "# Filtrer les données pour \"1ST GEN\"\n",
    "first_gen = df[df['GEN (capital culturel) [VI]'] == '1ST GEN']['MOY SENSE [VD]'].astype(float)\n",
    "\n",
    "# Filtrer les données pour \"2ND GEN\"\n",
    "second_gen = df[df['GEN (capital culturel) [VI]'] == '2ND GEN']['MOY SENSE [VD]'].astype(float)\n",
    "\n",
    "# Effectuer le test t pour deux échantillons indépendants\n",
    "t_stat, p_value = stats.ttest_ind(first_gen, second_gen, nan_policy='omit')\n",
    "\n",
    "# Afficher les résultats\n",
    "print(f\"T-statistic: {t_stat}\")\n",
    "print(f\"P-value: {p_value}\")\n",
    "\n",
    "# Calculer et afficher les moyennes pour chaque groupe\n",
    "mean_first_gen = first_gen.mean()\n",
    "mean_second_gen = second_gen.mean()\n",
    "\n",
    "print(f\"Moyenne de MOY SENSE [VD] pour 1ST GEN : {mean_first_gen}\")\n",
    "print(f\"Moyenne de MOY SENSE [VD] pour 2ND GEN : {mean_second_gen}\")\n",
    "\n",
    "# Interprétation des résultats\n",
    "if p_value < 0.05:\n",
    "    print(\"Il y a une différence statistiquement significative entre les deux groupes.\")\n",
    "else:\n",
    "    print(\"Il n'y a pas de différence statistiquement significative entre les deux groupes.\")\n"
   ]
  },
  {
   "cell_type": "markdown",
   "id": "e31981c2",
   "metadata": {},
   "source": [
    "## 1.2 Comparer les moyennes INTER tous étudiants confondus 1 GEN VS 2ND GEN"
   ]
  },
  {
   "cell_type": "code",
   "execution_count": 22,
   "id": "c3756786",
   "metadata": {},
   "outputs": [
    {
     "name": "stdout",
     "output_type": "stream",
     "text": [
      "T-statistic: 4.87033312922056\n",
      "P-value: 1.7338324686403362e-06\n",
      "Moyenne de MOY INTER [VD] pour 1ST GEN : 5.34154929577465\n",
      "Moyenne de MOY INTER [VD] pour 2ND GEN : 4.495590828924163\n",
      "Il y a une différence statistiquement significative entre les deux groupes.\n"
     ]
    }
   ],
   "source": [
    "import pandas as pd\n",
    "from scipy import stats\n",
    "\n",
    "# Filtrer les données pour \"1ST GEN\"\n",
    "first_gen = df[df['GEN (capital culturel) [VI]'] == '1ST GEN']['MOY INTER [VD]'].astype(float)\n",
    "\n",
    "# Filtrer les données pour \"2ND GEN\"\n",
    "second_gen = df[df['GEN (capital culturel) [VI]'] == '2ND GEN']['MOY INTER [VD]'].astype(float)\n",
    "\n",
    "# Effectuer le test t pour deux échantillons indépendants\n",
    "t_stat, p_value = stats.ttest_ind(first_gen, second_gen, nan_policy='omit')\n",
    "\n",
    "# Afficher les résultats\n",
    "print(f\"T-statistic: {t_stat}\")\n",
    "print(f\"P-value: {p_value}\")\n",
    "\n",
    "# Calculer et afficher les moyennes pour chaque groupe\n",
    "mean_first_gen = first_gen.mean()\n",
    "mean_second_gen = second_gen.mean()\n",
    "\n",
    "print(f\"Moyenne de MOY INTER [VD] pour 1ST GEN : {mean_first_gen}\")\n",
    "print(f\"Moyenne de MOY INTER [VD] pour 2ND GEN : {mean_second_gen}\")\n",
    "\n",
    "# Interprétation des résultats\n",
    "if p_value < 0.05:\n",
    "    print(\"Il y a une différence statistiquement significative entre les deux groupes.\")\n",
    "else:\n",
    "    print(\"Il n'y a pas de différence statistiquement significative entre les deux groupes.\")\n"
   ]
  },
  {
   "cell_type": "markdown",
   "id": "d9feae9a",
   "metadata": {},
   "source": [
    "## 1.3 Code pour comparer les motivations IND entre EDI 1 GEN VS 2 GEN"
   ]
  },
  {
   "cell_type": "code",
   "execution_count": 19,
   "id": "d293fa3c",
   "metadata": {},
   "outputs": [
    {
     "name": "stdout",
     "output_type": "stream",
     "text": [
      "T-statistic: 0.35722870007135\n",
      "P-value: 0.7215928284176576\n",
      "Moyenne de MOY IND [VD] pour 1ST GEN et EDI : 5.992974238875879\n",
      "Moyenne de MOY IND [VD] pour 2ND GEN et EDI : 5.913746630727763\n",
      "Il n'y a pas de différence statistiquement significative entre les deux groupes.\n"
     ]
    }
   ],
   "source": [
    "import pandas as pd\n",
    "from scipy import stats\n",
    "\n",
    "\n",
    "# Filtrer les données pour \"1ST GEN\" et \"EDI\"\n",
    "first_gen_edi = df[(df['GEN (capital culturel) [VI]'] == '1ST GEN') & (df['MIG (ascendance migratoire) [VI]'] == 'EDI')]['MOY IND [VD]'].astype(float)\n",
    "\n",
    "# Filtrer les données pour \"2ND GEN\" et \"EDI\"\n",
    "second_gen_edi = df[(df['GEN (capital culturel) [VI]'] == '2ND GEN') & (df['MIG (ascendance migratoire) [VI]'] == 'EDI')]['MOY IND [VD]'].astype(float)\n",
    "\n",
    "# Effectuer le test t pour deux échantillons indépendants\n",
    "t_stat, p_value = stats.ttest_ind(first_gen_edi, second_gen_edi, nan_policy='omit')\n",
    "\n",
    "# Afficher les résultats\n",
    "print(f\"T-statistic: {t_stat}\")\n",
    "print(f\"P-value: {p_value}\")\n",
    "\n",
    "# Calculer et afficher les moyennes pour chaque groupe\n",
    "mean_first_gen_edi = first_gen_edi.mean()\n",
    "mean_second_gen_edi = second_gen_edi.mean()\n",
    "\n",
    "print(f\"Moyenne de MOY IND [VD] pour 1ST GEN et EDI : {mean_first_gen_edi}\")\n",
    "print(f\"Moyenne de MOY IND [VD] pour 2ND GEN et EDI : {mean_second_gen_edi}\")\n",
    "\n",
    "# Interprétation des résultats\n",
    "if p_value < 0.05:\n",
    "    print(\"Il y a une différence statistiquement significative entre les deux groupes.\")\n",
    "else:\n",
    "    print(\"Il n'y a pas de différence statistiquement significative entre les deux groupes.\")\n"
   ]
  },
  {
   "cell_type": "markdown",
   "id": "0826afb0",
   "metadata": {},
   "source": [
    "## 1.4 Corrélation entre Inter et SENS: "
   ]
  },
  {
   "cell_type": "code",
   "execution_count": null,
   "id": "32330ac3",
   "metadata": {},
   "outputs": [],
   "source": [
    "import pandas as pd\n",
    "from scipy.stats import pearsonr\n",
    "\n",
    "# Charger le fichier Excel\n",
    "file_path = 'data/Données VI [GEN + MIG] + VD [SENSE + IND + INTER].xlsx'\n",
    "df = pd.read_excel(file_path)\n",
    "\n",
    "# Extraire les colonnes MOY INTER [VD] et MOY SENSE [VD]\n",
    "inter_values = df['MOY INTER [VD]'].astype(float)\n",
    "sens_of_b = df ['MOY SENS w'] \n"
   ]
  },
  {
   "cell_type": "markdown",
   "id": "156a4826",
   "metadata": {},
   "source": [
    "## Compter les étudiants EDI dont les parents ont fait des études ou non :"
   ]
  },
  {
   "cell_type": "code",
   "execution_count": 3,
   "id": "a4817aab",
   "metadata": {},
   "outputs": [
    {
     "name": "stdout",
     "output_type": "stream",
     "text": [
      "Nombre d'individus '1ST GEN' et 'EDI' : 61\n",
      "Nombre d'individus '2ND GEN' et 'EDI' : 53\n"
     ]
    }
   ],
   "source": [
    "import pandas as pd\n",
    "\n",
    "# Charger le fichier Excel\n",
    "file_path = 'data/Données VI [GEN + MIG] + VD [SENSE + IND + INTER].xlsx'\n",
    "df = pd.read_excel(file_path)\n",
    "\n",
    "# Filtrer les données pour \"1ST GEN\" et \"EDI\"\n",
    "first_gen_edi = df[(df['GEN (capital culturel) [VI]'] == '1ST GEN') & (df['MIG (ascendance migratoire) [VI]'] == 'EDI')]\n",
    "\n",
    "# Filtrer les données pour \"2ND GEN\" et \"EDI\"\n",
    "second_gen_edi = df[(df['GEN (capital culturel) [VI]'] == '2ND GEN') & (df['MIG (ascendance migratoire) [VI]'] == 'EDI')]\n",
    "\n",
    "# Compter le nombre d'individus dans chaque groupe\n",
    "count_first_gen_edi = first_gen_edi.shape[0]\n",
    "count_second_gen_edi = second_gen_edi.shape[0]\n",
    "\n",
    "# Afficher les résultats\n",
    "print(f\"Nombre d'individus '1ST GEN' et 'EDI' : {count_first_gen_edi}\")\n",
    "print(f\"Nombre d'individus '2ND GEN' et 'EDI' : {count_second_gen_edi}\")\n"
   ]
  },
  {
   "cell_type": "code",
   "execution_count": 18,
   "id": "350e2a0b",
   "metadata": {},
   "outputs": [
    {
     "name": "stdout",
     "output_type": "stream",
     "text": [
      "                            OLS Regression Results                            \n",
      "==============================================================================\n",
      "Dep. Variable:         MOY SENSE [VD]   R-squared:                      -0.000\n",
      "Model:                            OLS   Adj. R-squared:                 -0.000\n",
      "Method:                 Least Squares   F-statistic:                       nan\n",
      "Date:                Fri, 24 May 2024   Prob (F-statistic):                nan\n",
      "Time:                        21:06:14   Log-Likelihood:                -47.266\n",
      "No. Observations:                  61   AIC:                             96.53\n",
      "Df Residuals:                      60   BIC:                             98.64\n",
      "Df Model:                           0                                         \n",
      "Covariance Type:            nonrobust                                         \n",
      "==============================================================================\n",
      "                 coef    std err          t      P>|t|      [0.025      0.975]\n",
      "------------------------------------------------------------------------------\n",
      "Intercept      4.3714      0.068     64.479      0.000       4.236       4.507\n",
      "==============================================================================\n",
      "Omnibus:                        0.854   Durbin-Watson:                   1.938\n",
      "Prob(Omnibus):                  0.653   Jarque-Bera (JB):                0.827\n",
      "Skew:                          -0.022   Prob(JB):                        0.661\n",
      "Kurtosis:                       2.431   Cond. No.                         1.00\n",
      "==============================================================================\n",
      "\n",
      "Notes:\n",
      "[1] Standard Errors assume that the covariance matrix of the errors is correctly specified.\n"
     ]
    }
   ],
   "source": [
    "import pandas as pd\n",
    "import statsmodels.api as sm\n",
    "\n",
    "# Charger le fichier Excel\n",
    "file_path = 'data/Données VI [GEN + MIG] + VD [SENSE + IND + INTER].xlsx'\n",
    "df = pd.read_excel(file_path)\n",
    "\n",
    "# Filtrer les données pour \"1ST GEN\" dans la colonne B et \"EDI\" dans la colonne C\n",
    "filtered_df = df[(df['GEN (capital culturel) [VI]'] == '1ST GEN') & (df['MIG (ascendance migratoire) [VI]'] == 'EDI')]\n",
    "\n",
    "# Sélectionner les colonnes pertinentes\n",
    "# Colonne I : MOY SENSE [VD]\n",
    "y = filtered_df['MOY SENSE [VD]'].astype(float)  # Convertir en float si nécessaire\n",
    "\n",
    "# Créer une variable indépendante fictive pour l'intercept (une colonne de 1)\n",
    "x = pd.DataFrame({'Intercept': [1] * len(y)}, index=y.index)  # Aligner les indices avec y\n",
    "x = sm.add_constant(x)  # Ajouter une constante\n",
    "\n",
    "# Ajuster le modèle de régression linéaire\n",
    "model = sm.OLS(y, x).fit()\n",
    "\n",
    "# Afficher le résumé des résultats de la régression\n",
    "print(model.summary())\n"
   ]
  },
  {
   "cell_type": "markdown",
   "id": "2a4619b3",
   "metadata": {},
   "source": [
    "## Code pour comparer le sentiment d'appartenance des étudiants d'origine imigrée selon le niveau d'étude des parents :"
   ]
  },
  {
   "cell_type": "code",
   "execution_count": 20,
   "id": "e32cd192",
   "metadata": {},
   "outputs": [
    {
     "name": "stdout",
     "output_type": "stream",
     "text": [
      "T-statistic: 0.06427219588276172\n",
      "P-value: 0.9488680663294495\n",
      "Il n'y a pas de différence statistiquement significative entre les deux groupes.\n"
     ]
    }
   ],
   "source": [
    "import pandas as pd\n",
    "from scipy import stats\n",
    "\n",
    "file_path = 'data/Données VI [GEN + MIG] + VD [SENSE + IND + INTER].xlsx'\n",
    "df = pd.read_excel(file_path)\n",
    "\n",
    "first_gen_edi = df[(df['GEN (capital culturel) [VI]'] == '1ST GEN') & (df['MIG (ascendance migratoire) [VI]'] == 'EDI')]['MOY SENSE [VD]'].astype(float)\n",
    "\n",
    "second_gen_edi = df[(df['GEN (capital culturel) [VI]'] == '2ND GEN') & (df['MIG (ascendance migratoire) [VI]'] == 'EDI')]['MOY SENSE [VD]'].astype(float)\n",
    "\n",
    "t_stat, p_value = stats.ttest_ind(first_gen_edi, second_gen_edi, nan_policy='omit')\n",
    "\n",
    "print(f\"T-statistic: {t_stat}\")\n",
    "print(f\"P-value: {p_value}\")\n",
    "\n",
    "if p_value < 0.05:\n",
    "    print(\"Il y a une différence statistiquement significative entre les deux groupes.\")\n",
    "else:\n",
    "    print(\"Il n'y a pas de différence statistiquement significative entre les deux groupes.\")\n"
   ]
  },
  {
   "cell_type": "markdown",
   "id": "687218c0",
   "metadata": {},
   "source": [
    "## Ce code effectue les étapes suivantes :\n",
    "Charger les données depuis le fichier Excel.\n",
    "Filtrer les données pour obtenir les valeurs de MOY SENSE [VD] des individus classés comme \"1ST GEN\" et \"EDI\".\n",
    "Filtrer les données pour obtenir les valeurs de MOY SENSE [VD] des individus classés comme \"2ND GEN\" et \"EDI\".\n",
    "Effectuer un test t pour comparer les moyennes des deux groupes.\n",
    "Afficher les résultats du test t et une interprétation de ces résultats.\n"
   ]
  },
  {
   "cell_type": "markdown",
   "id": "86ac26b1",
   "metadata": {},
   "source": [
    "Résultats du Test T\n",
    "\n",
    "T-statistic : 0.0643\n",
    "\n",
    "P-value : 0.9489\n",
    "\n",
    "Interprétation: \n",
    "La valeur de p (0.9489) est bien supérieure au seuil de signification couramment utilisé de 0.05. Par conséquent, nous n'avons pas suffisamment de preuves pour rejeter l'hypothèse nulle, ce qui signifie qu'il n'y a pas de différence statistiquement significative entre les valeurs moyennes de MOY SENSE [VD] des individus classés comme \"1ST GEN\" et \"EDI\" et ceux classés comme \"2ND GEN\" et \"EDI\".\n",
    "\n",
    "En d'autres termes, les moyennes de MOY SENSE [VD] pour ces deux groupes sont très similaires selon les données disponibles."
   ]
  },
  {
   "cell_type": "markdown",
   "id": "4e48afe5",
   "metadata": {},
   "source": [
    "## Moyenne sentiment d'appartenance pour chaque groupe EDI 1e génération VS 2e génération: "
   ]
  },
  {
   "cell_type": "code",
   "execution_count": 15,
   "id": "45931d1d",
   "metadata": {},
   "outputs": [
    {
     "name": "stdout",
     "output_type": "stream",
     "text": [
      "Moyenne de MOY SENSE [VD] pour 1ST GEN et EDI : 4.371374527112231\n",
      "Moyenne de MOY SENSE [VD] pour 2ND GEN et EDI : 4.365021770682149\n"
     ]
    }
   ],
   "source": [
    "import pandas as pd\n",
    "\n",
    "# Filtrer les données pour \"1ST GEN\" et \"EDI\"\n",
    "first_gen_edi = df[(df['GEN (capital culturel) [VI]'] == '1ST GEN') & (df['MIG (ascendance migratoire) [VI]'] == 'EDI')]['MOY SENSE [VD]'].astype(float)\n",
    "\n",
    "# Filtrer les données pour \"2ND GEN\" et \"EDI\"\n",
    "second_gen_edi = df[(df['GEN (capital culturel) [VI]'] == '2ND GEN') & (df['MIG (ascendance migratoire) [VI]'] == 'EDI')]['MOY SENSE [VD]'].astype(float)\n",
    "\n",
    "# Calculer les moyennes pour chaque groupe\n",
    "mean_first_gen_edi = first_gen_edi.mean()\n",
    "mean_second_gen_edi = second_gen_edi.mean()\n",
    "\n",
    "# Afficher les moyennes\n",
    "print(f\"Moyenne de MOY SENSE [VD] pour 1ST GEN et EDI : {mean_first_gen_edi}\")\n",
    "print(f\"Moyenne de MOY SENSE [VD] pour 2ND GEN et EDI : {mean_second_gen_edi}\")\n"
   ]
  },
  {
   "cell_type": "markdown",
   "id": "2a6310d6",
   "metadata": {},
   "source": [
    "## Code pour comparer les motivations INTER entre EDI 1GEN VS 2 GEN"
   ]
  },
  {
   "cell_type": "code",
   "execution_count": 20,
   "id": "2b3c0e91",
   "metadata": {},
   "outputs": [
    {
     "name": "stdout",
     "output_type": "stream",
     "text": [
      "T-statistic: 2.313860779048787\n",
      "P-value: 0.02249978812932491\n",
      "Moyenne de MOY INTER [VD] pour 1ST GEN et EDI : 5.819672131147539\n",
      "Moyenne de MOY INTER [VD] pour 2ND GEN et EDI : 5.216981132075472\n",
      "Il y a une différence statistiquement significative entre les deux groupes.\n"
     ]
    }
   ],
   "source": [
    "import pandas as pd\n",
    "from scipy import stats\n",
    "\n",
    "# Filtrer les données pour \"1ST GEN\" et \"EDI\"\n",
    "first_gen_edi = df[(df['GEN (capital culturel) [VI]'] == '1ST GEN') & (df['MIG (ascendance migratoire) [VI]'] == 'EDI')]['MOY INTER [VD]'].astype(float)\n",
    "\n",
    "# Filtrer les données pour \"2ND GEN\" et \"EDI\"\n",
    "second_gen_edi = df[(df['GEN (capital culturel) [VI]'] == '2ND GEN') & (df['MIG (ascendance migratoire) [VI]'] == 'EDI')]['MOY INTER [VD]'].astype(float)\n",
    "\n",
    "# Effectuer le test t pour deux échantillons indépendants\n",
    "t_stat, p_value = stats.ttest_ind(first_gen_edi, second_gen_edi, nan_policy='omit')\n",
    "\n",
    "# Afficher les résultats\n",
    "print(f\"T-statistic: {t_stat}\")\n",
    "print(f\"P-value: {p_value}\")\n",
    "\n",
    "# Calculer et afficher les moyennes pour chaque groupe\n",
    "mean_first_gen_edi = first_gen_edi.mean()\n",
    "mean_second_gen_edi = second_gen_edi.mean()\n",
    "\n",
    "print(f\"Moyenne de MOY INTER [VD] pour 1ST GEN et EDI : {mean_first_gen_edi}\")\n",
    "print(f\"Moyenne de MOY INTER [VD] pour 2ND GEN et EDI : {mean_second_gen_edi}\")\n",
    "\n",
    "# Interprétation des résultats\n",
    "if p_value < 0.05:\n",
    "    print(\"Il y a une différence statistiquement significative entre les deux groupes.\")\n",
    "else:\n",
    "    print(\"Il n'y a pas de différence statistiquement significative entre les deux groupes.\")\n"
   ]
  },
  {
   "cell_type": "markdown",
   "id": "1da516d2",
   "metadata": {},
   "source": [
    "## Code pour comparer les moyennes IND tous étudiants confondus 1 GEN VS 2ND GEN"
   ]
  },
  {
   "cell_type": "code",
   "execution_count": 21,
   "id": "76ecc1bb",
   "metadata": {},
   "outputs": [
    {
     "name": "stdout",
     "output_type": "stream",
     "text": [
      "T-statistic: 0.741709275375226\n",
      "P-value: 0.45879263203860976\n",
      "Moyenne de MOY IND [VD] pour 1ST GEN : 5.764587525150904\n",
      "Moyenne de MOY IND [VD] pour 2ND GEN : 5.6689342403628125\n",
      "Il n'y a pas de différence statistiquement significative entre les deux groupes.\n"
     ]
    }
   ],
   "source": [
    "import pandas as pd\n",
    "from scipy import stats\n",
    "\n",
    "# Filtrer les données pour \"1ST GEN\"\n",
    "first_gen = df[df['GEN (capital culturel) [VI]'] == '1ST GEN']['MOY IND [VD]'].astype(float)\n",
    "\n",
    "# Filtrer les données pour \"2ND GEN\"\n",
    "second_gen = df[df['GEN (capital culturel) [VI]'] == '2ND GEN']['MOY IND [VD]'].astype(float)\n",
    "\n",
    "# Effectuer le test t pour deux échantillons indépendants\n",
    "t_stat, p_value = stats.ttest_ind(first_gen, second_gen, nan_policy='omit')\n",
    "\n",
    "# Afficher les résultats\n",
    "print(f\"T-statistic: {t_stat}\")\n",
    "print(f\"P-value: {p_value}\")\n",
    "\n",
    "# Calculer et afficher les moyennes pour chaque groupe\n",
    "mean_first_gen = first_gen.mean()\n",
    "mean_second_gen = second_gen.mean()\n",
    "\n",
    "print(f\"Moyenne de MOY IND [VD] pour 1ST GEN : {mean_first_gen}\")\n",
    "print(f\"Moyenne de MOY IND [VD] pour 2ND GEN : {mean_second_gen}\")\n",
    "\n",
    "# Interprétation des résultats\n",
    "if p_value < 0.05:\n",
    "    print(\"Il y a une différence statistiquement significative entre les deux groupes.\")\n",
    "else:\n",
    "    print(\"Il n'y a pas de différence statistiquement significative entre les deux groupes.\")\n"
   ]
  },
  {
   "cell_type": "code",
   "execution_count": 6,
   "id": "9d575aea",
   "metadata": {},
   "outputs": [
    {
     "data": {
      "image/png": "[encoded data removed]",
      "text/plain": [
       "<Figure size 720x360 with 4 Axes>"
      ]
     },
     "metadata": {
      "needs_background": "light"
     },
     "output_type": "display_data"
    },
    {
     "data": {
      "image/png": "[encoded data removed]",
      "text/plain": [
       "<Figure size 720x360 with 4 Axes>"
      ]
     },
     "metadata": {
      "needs_background": "light"
     },
     "output_type": "display_data"
    },
    {
     "name": "stdout",
     "output_type": "stream",
     "text": [
      "Shapiro-Wilk test pour MOY INTER [VD] 1ST GEN et EDI : ShapiroResult(statistic=0.9021929502487183, pvalue=0.00013984227553009987)\n",
      "Shapiro-Wilk test pour MOY SENSE [VD] 1ST GEN et EDI : ShapiroResult(statistic=0.9866765737533569, pvalue=0.7477869987487793)\n",
      "Shapiro-Wilk test pour MOY INTER [VD] 2ND GEN et EDI : ShapiroResult(statistic=0.8692328929901123, pvalue=3.3663498470559716e-05)\n",
      "Shapiro-Wilk test pour MOY SENSE [VD] 2ND GEN et EDI : ShapiroResult(statistic=0.9598860740661621, pvalue=0.07258927077054977)\n",
      "Test de Levene pour MOY INTER [VD] : LeveneResult(statistic=8.09288305160534, pvalue=0.005284954022671059)\n",
      "Test de Levene pour MOY SENSE [VD] : LeveneResult(statistic=0.48666760506760937, pvalue=0.4868632817144326)\n"
     ]
    }
   ],
   "source": [
    "import pandas as pd\n",
    "import matplotlib.pyplot as plt\n",
    "import seaborn as sns\n",
    "from scipy import stats\n",
    "\n",
    "# Charger vos données\n",
    "file_path = 'data/Données VI [GEN + MIG] + VD [SENSE + IND + INTER].xlsx'\n",
    "df = pd.read_excel(file_path)\n",
    "\n",
    "# Filtrer les données pour les groupes \"1ST GEN\" et \"EDI\" et \"2ND GEN\" et \"EDI\"\n",
    "first_gen_edi_inter = df[(df['GEN (capital culturel) [VI]'] == '1ST GEN') & (df['MIG (ascendance migratoire) [VI]'] == 'EDI')]['MOY INTER [VD]'].astype(float)\n",
    "first_gen_edi_sense = df[(df['GEN (capital culturel) [VI]'] == '1ST GEN') & (df['MIG (ascendance migratoire) [VI]'] == 'EDI')]['MOY SENSE [VD]'].astype(float)\n",
    "second_gen_edi_inter = df[(df['GEN (capital culturel) [VI]'] == '2ND GEN') & (df['MIG (ascendance migratoire) [VI]'] == 'EDI')]['MOY INTER [VD]'].astype(float)\n",
    "second_gen_edi_sense = df[(df['GEN (capital culturel) [VI]'] == '2ND GEN') & (df['MIG (ascendance migratoire) [VI]'] == 'EDI')]['MOY SENSE [VD]'].astype(float)\n",
    "\n",
    "# Vérification de la normalité avec des histogrammes et QQ-Plots\n",
    "plt.figure(figsize=(10, 5))\n",
    "plt.subplot(2, 2, 1)\n",
    "sns.histplot(first_gen_edi_inter, kde=True)\n",
    "plt.title('Histogramme de MOY INTER [VD] pour 1ST GEN et EDI')\n",
    "plt.subplot(2, 2, 2)\n",
    "sns.histplot(first_gen_edi_sense, kde=True)\n",
    "plt.title('Histogramme de MOY SENSE [VD] pour 1ST GEN et EDI')\n",
    "plt.subplot(2, 2, 3)\n",
    "sns.histplot(second_gen_edi_inter, kde=True)\n",
    "plt.title('Histogramme de MOY INTER [VD] pour 2ND GEN et EDI')\n",
    "plt.subplot(2, 2, 4)\n",
    "sns.histplot(second_gen_edi_sense, kde=True)\n",
    "plt.title('Histogramme de MOY SENSE [VD] pour 2ND GEN et EDI')\n",
    "plt.tight_layout()\n",
    "plt.show()\n",
    "\n",
    "# QQ-Plots\n",
    "plt.figure(figsize=(10, 5))\n",
    "plt.subplot(2, 2, 1)\n",
    "stats.probplot(first_gen_edi_inter, dist=\"norm\", plot=plt)\n",
    "plt.title('QQ-Plot de MOY INTER [VD] pour 1ST GEN et EDI')\n",
    "plt.subplot(2, 2, 2)\n",
    "stats.probplot(first_gen_edi_sense, dist=\"norm\", plot=plt)\n",
    "plt.title('QQ-Plot de MOY SENSE [VD] pour 1ST GEN et EDI')\n",
    "plt.subplot(2, 2, 3)\n",
    "stats.probplot(second_gen_edi_inter, dist=\"norm\", plot=plt)\n",
    "plt.title('QQ-Plot de MOY INTER [VD] pour 2ND GEN et EDI')\n",
    "plt.subplot(2, 2, 4)\n",
    "stats.probplot(second_gen_edi_sense, dist=\"norm\", plot=plt)\n",
    "plt.title('QQ-Plot de MOY SENSE [VD] pour 2ND GEN et EDI')\n",
    "plt.tight_layout()\n",
    "plt.show()\n",
    "\n",
    "# Test de Shapiro-Wilk pour la normalité\n",
    "shapiro_inter_1st = stats.shapiro(first_gen_edi_inter)\n",
    "shapiro_sense_1st = stats.shapiro(first_gen_edi_sense)\n",
    "shapiro_inter_2nd = stats.shapiro(second_gen_edi_inter)\n",
    "shapiro_sense_2nd = stats.shapiro(second_gen_edi_sense)\n",
    "print(f\"Shapiro-Wilk test pour MOY INTER [VD] 1ST GEN et EDI : {shapiro_inter_1st}\")\n",
    "print(f\"Shapiro-Wilk test pour MOY SENSE [VD] 1ST GEN et EDI : {shapiro_sense_1st}\")\n",
    "print(f\"Shapiro-Wilk test pour MOY INTER [VD] 2ND GEN et EDI : {shapiro_inter_2nd}\")\n",
    "print(f\"Shapiro-Wilk test pour MOY SENSE [VD] 2ND GEN et EDI : {shapiro_sense_2nd}\")\n",
    "\n",
    "# Test de Levene pour l'égalité des variances\n",
    "levene_inter = stats.levene(first_gen_edi_inter, second_gen_edi_inter)\n",
    "levene_sense = stats.levene(first_gen_edi_sense, second_gen_edi_sense)\n",
    "print(f\"Test de Levene pour MOY INTER [VD] : {levene_inter}\")\n",
    "print(f\"Test de Levene pour MOY SENSE [VD] : {levene_sense}\")\n"
   ]
  },
  {
   "cell_type": "code",
   "execution_count": null,
   "id": "93322e6c",
   "metadata": {},
   "outputs": [],
   "source": []
  }
 ],
 "metadata": {
  "kernelspec": {
   "display_name": "Python 3 (ipykernel)",
   "language": "python",
   "name": "python3"
  },
  "language_info": {
   "codemirror_mode": {
    "name": "ipython",
    "version": 3
   },
   "file_extension": ".py",
   "mimetype": "text/x-python",
   "name": "python",
   "nbconvert_exporter": "python",
   "pygments_lexer": "ipython3",
   "version": "3.9.12"
  }
 },
 "nbformat": 4,
 "nbformat_minor": 5
}
