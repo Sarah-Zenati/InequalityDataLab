{
 "cells": [
  {
   "cell_type": "markdown",
   "id": "b2735c56",
   "metadata": {},
   "source": [
    "### Basic Statistical Learning \n",
    "\n",
    "It is important to note that statistics is based on the study of observed data, typically referred to as data samples that come in the form of $n$ realizations of points $(x_i, y_i)_{i=1, ...n}$. This can be presented in the form of a table grouping all the data (age, income, gender). The primary goal of statistics is to measure the dependencies between variables (here the points $x$) and their target (here the associated labels $y$); it aims to distinguish systematic trends from random variations. Thus, the principle of learning relies on the connection between the data and the generalization of these data for later use in applications. The sought-after applications are often prediction tasks.\n",
    "\n",
    "An essential component of statistical learning, similar to human intelligence, is learning from errors. It operates on the principle that \"the more you make mistakes, the better you learn,\" and this is mathematically utilized in the learning processes. Specifically, making mistakes in the beginning allows for rapid learning. Subsequently, each time the algorithm makes a mistake, it chooses a new direction among the possible ones to reduce the error. Also, to quantify this error and be able to \"learn from failures,\" a mathematical function called the \"loss function\" (or \"cost function\") is used to calculate this measure. Often, this \"loss function\" needs to be minimized. Therefore, it is a common optimization problem known as function minimization. To learn and minimize this \"loss function,\" if a solution is not analytically determinable, techniques such as \"gradient descent\" are employed to determine the new direction to take in minimizing the learning criterion.\n",
    "\n",
    "Next, we turn our attention to an accessible example of statistical learning: linear regression.\n",
    "A linear regression model aims to establish a linear relationship between the vector of variables $Y$ (termed the dependent variable) and one or more variables (only one in the case of univariate), referred to as independent variables, aggregated in the matrix of variables $X$. It's termed \"linear regression\" because we simplify the complexity of a scatter plot to the \"simplicity\" of a linear line.\n",
    "To simplify, the independent variable data $X=(X_1, X_2, ... X_n)$, where $n$ is the number of data points, will be real values. In other words, each sample $Xi$ will be a real number. Similarly, the dependent variables $Y = (Y_1, Y_2, ... Y_n)$ will be real values. It is thus possible to represent the data in a two-dimensional plane.\n",
    "\n",
    "To better grasp the idea of establishing a linear relationship between $Y$ and $X$ (hence a line), one can envision an algorithm finding coefficients $\\beta_0$ and $\\beta_1$, such that $Y = \\beta_0 + X\\beta_1$ (meaning $Y_i = \\beta_0 + X_i\\beta_1$ for each data point $i$).\n"
   ]
  },
  {
   "cell_type": "code",
   "execution_count": null,
   "id": "56cf3ca0",
   "metadata": {},
   "outputs": [],
   "source": []
  }
 ],
 "metadata": {
  "kernelspec": {
   "display_name": "Python 3 (ipykernel)",
   "language": "python",
   "name": "python3"
  },
  "language_info": {
   "codemirror_mode": {
    "name": "ipython",
    "version": 3
   },
   "file_extension": ".py",
   "mimetype": "text/x-python",
   "name": "python",
   "nbconvert_exporter": "python",
   "pygments_lexer": "ipython3",
   "version": "3.9.12"
  }
 },
 "nbformat": 4,
 "nbformat_minor": 5
}
